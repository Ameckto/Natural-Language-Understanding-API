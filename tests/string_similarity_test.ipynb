{
 "cells": [
  {
   "cell_type": "code",
   "execution_count": 1,
   "metadata": {
    "scrolled": true
   },
   "outputs": [
    {
     "name": "stderr",
     "output_type": "stream",
     "text": [
      "C:\\Users\\Niklas\\anaconda3\\envs\\PersonalVoiceAssistent\\lib\\site-packages\\numpy\\_distributor_init.py:32: UserWarning: loaded more than 1 DLL from .libs:\n",
      "C:\\Users\\Niklas\\anaconda3\\envs\\PersonalVoiceAssistent\\lib\\site-packages\\numpy\\.libs\\libopenblas.NOIJJG62EMASZI6NYURL6JBKM4EVBGM7.gfortran-win_amd64.dll\n",
      "C:\\Users\\Niklas\\anaconda3\\envs\\PersonalVoiceAssistent\\lib\\site-packages\\numpy\\.libs\\libopenblas.TXA6YQSD3GCQQC22GEQ54J2UDCXDXHWN.gfortran-win_amd64.dll\n",
      "  stacklevel=1)\n"
     ]
    }
   ],
   "source": [
    "import pandas as pd"
   ]
  },
  {
   "cell_type": "code",
   "execution_count": 10,
   "metadata": {},
   "outputs": [],
   "source": [
    "input_data = [{'input_name': 'Freddy_93', 'expected_name': 'Freddy', 'names_in_meeting': ['Freddy', 'Klaus', 'Niklas']}]"
   ]
  },
  {
   "cell_type": "code",
   "execution_count": 16,
   "metadata": {},
   "outputs": [],
   "source": [
    "output_data = [{'input_name': 'Freddy_93', \n",
    "                'expectet_name': 'Freddy', \n",
    "                'rank_name_1': 'Freddy', \n",
    "                'confidence_name_1':0.8, \n",
    "                'rank_name_2': 'Klaus', \n",
    "                'confidence_name_2':0.7, \n",
    "                'rank_name_3':'Niklas',\n",
    "                'confidence_name_3':0.6}]"
   ]
  },
  {
   "cell_type": "code",
   "execution_count": 22,
   "metadata": {},
   "outputs": [],
   "source": [
    "# _93\n",
    "# _groß kleinschreibung\n",
    "# xxxNamexxx\n",
    "# Nikki --> Niklas\n",
    "# Chris --> Christian\n",
    "# Rob3ert --> Robert\n",
    "# 0tt0 --> Otto\n",
    "# Robert Johanson --> Robert"
   ]
  },
  {
   "cell_type": "code",
   "execution_count": 17,
   "metadata": {},
   "outputs": [],
   "source": [
    "df = pd.DataFrame(output_data)"
   ]
  },
  {
   "cell_type": "code",
   "execution_count": 18,
   "metadata": {},
   "outputs": [
    {
     "data": {
      "text/html": [
       "<div>\n",
       "<style scoped>\n",
       "    .dataframe tbody tr th:only-of-type {\n",
       "        vertical-align: middle;\n",
       "    }\n",
       "\n",
       "    .dataframe tbody tr th {\n",
       "        vertical-align: top;\n",
       "    }\n",
       "\n",
       "    .dataframe thead th {\n",
       "        text-align: right;\n",
       "    }\n",
       "</style>\n",
       "<table border=\"1\" class=\"dataframe\">\n",
       "  <thead>\n",
       "    <tr style=\"text-align: right;\">\n",
       "      <th></th>\n",
       "      <th>input_name</th>\n",
       "      <th>expectet_name</th>\n",
       "      <th>rank_name_1</th>\n",
       "      <th>confidence_name_1</th>\n",
       "      <th>rank_name_2</th>\n",
       "      <th>confidence_name_2</th>\n",
       "      <th>rank_name_3</th>\n",
       "      <th>confidence_name_3</th>\n",
       "    </tr>\n",
       "  </thead>\n",
       "  <tbody>\n",
       "    <tr>\n",
       "      <th>0</th>\n",
       "      <td>Freddy_93</td>\n",
       "      <td>Freddy</td>\n",
       "      <td>Freddy</td>\n",
       "      <td>0.8</td>\n",
       "      <td>Klaus</td>\n",
       "      <td>0.7</td>\n",
       "      <td>Niklas</td>\n",
       "      <td>0.6</td>\n",
       "    </tr>\n",
       "  </tbody>\n",
       "</table>\n",
       "</div>"
      ],
      "text/plain": [
       "  input_name expectet_name rank_name_1  confidence_name_1 rank_name_2  \\\n",
       "0  Freddy_93        Freddy      Freddy                0.8       Klaus   \n",
       "\n",
       "   confidence_name_2 rank_name_3  confidence_name_3  \n",
       "0                0.7      Niklas                0.6  "
      ]
     },
     "execution_count": 18,
     "metadata": {},
     "output_type": "execute_result"
    }
   ],
   "source": [
    "df"
   ]
  },
  {
   "cell_type": "code",
   "execution_count": null,
   "metadata": {},
   "outputs": [],
   "source": []
  }
 ],
 "metadata": {
  "kernelspec": {
   "display_name": "Python 3",
   "language": "python",
   "name": "python3"
  },
  "language_info": {
   "codemirror_mode": {
    "name": "ipython",
    "version": 3
   },
   "file_extension": ".py",
   "mimetype": "text/x-python",
   "name": "python",
   "nbconvert_exporter": "python",
   "pygments_lexer": "ipython3",
   "version": "3.7.7"
  }
 },
 "nbformat": 4,
 "nbformat_minor": 4
}
